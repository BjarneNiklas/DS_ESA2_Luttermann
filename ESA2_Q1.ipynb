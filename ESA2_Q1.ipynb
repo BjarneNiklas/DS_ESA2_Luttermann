{
 "cells": [
  {
   "cell_type": "code",
   "execution_count": 27,
   "metadata": {
    "collapsed": false
   },
   "outputs": [
   ],
   "source": [
    "# Author: Bjarne Niklas Luttermann (Matr. Nr.: 373960, TH Lübeck)\n",
    "# Data Science - ESA 2\n",
    "# Abgabedatum: 23.04.2024\n",
    "\n",
    "# Task: Write 2 python functions to get the indices of the sorted elements of given lists and compare the speed. One is \n",
    "# without numpy package and the other is with numpy. (raise a error message if the input is null or not numerical)\n",
    "\n",
    "# List 1: [23, 104, 5, 190, 8, 7, -3]\n",
    "# List 2 : []\n",
    "# List 3 : random generate 1000000 integers "
   ]
  },
  {
   "cell_type": "code",
   "execution_count": 28,
   "metadata": {
    "collapsed": false
   },
   "outputs": [
   ],
   "source": [
    "# Imports and lists\n",
    "import numpy as np\n",
    "import time\n",
    "import random\n",
    "\n",
    "list1 = [23, 104, 5, 190, 8, 7, -3]\n",
    "list2 = []\n",
    "list3 = [random.random() for _ in range(1000000)]"
   ]
  },
  {
   "cell_type": "code",
   "execution_count": 29,
   "metadata": {
    "collapsed": false
   },
   "outputs": [
   ],
   "source": [
    "# Validation function of the lists and definitions of the 2 functions wanted\n",
    "def validate_list(ls):\n",
    "    if not ls:\n",
    "        raise ValueError(\"List is empty\")\n",
    "    if not all(isinstance(x, (int, float)) for x in ls):\n",
    "        raise ValueError(\"All elements of the list must be numerical\")\n",
    "\n",
    "def sort_indices_python(ls):\n",
    "    validate_list(ls)\n",
    "    return sorted(range(len(ls)), key=lambda x: ls[x])\n",
    "\n",
    "def sort_indices_numpy(ls):\n",
    "    validate_list(ls)\n",
    "    return np.argsort(ls).tolist()"
   ]
  },
  {
   "cell_type": "code",
   "execution_count": 30,
   "metadata": {
    "collapsed": false,
    "scrolled": true
   },
   "outputs": [
    {
     "name": "stdout",
     "output_type": "stream",
     "text": [
      "Indices of sorted list1 using Python without NumPy: [6, 2, 5, 4, 0, 1, 3]\n",
      "Indices of sorted list1 using NumPy: [6, 2, 5, 4, 0, 1, 3]\n",
      "Error Message: List is empty\n"
     ]
    },
    {
     "name": "stdout",
     "output_type": "stream",
     "text": [
      "Python (without NumPy) sorting took 1.0320 seconds.\n",
      "NumPy sorting took 0.5416 seconds.\n"
     ]
    }
   ],
   "source": [
    "# Testing the 3 lists and send output including the sorted lists and duration\n",
    "def test():\n",
    "    # Test: List 1\n",
    "    start_time = time.time()\n",
    "    try:\n",
    "        print(\"Indices of sorted list1 using Python without NumPy:\", sort_indices_python(list1))\n",
    "        end_time_python = time.time() - start_time\n",
    "        print(\"Indices of sorted list1 using NumPy:\", sort_indices_numpy(list1))\n",
    "        end_time_numpy = time.time() - start_time\n",
    "    except ValueError as e:\n",
    "        print(e)\n",
    "\n",
    "    # Test: List 2\n",
    "    try:\n",
    "        print(\"Indices of sorted list2 using Python without NumPy:\", sort_indices_python(list2))\n",
    "        print(\"Indices of sorted list2 using NumPy:\", sort_indices_numpy(list2))\n",
    "    except ValueError as e:\n",
    "        print(\"Error Message:\", e)\n",
    "\n",
    "    # Timing and Test: List 3\n",
    "    \n",
    "    ''' \n",
    "    # 10,000 randomly generated integers can still be processed here; the display warns at 1 million integers\n",
    "    start_time = time.time()\n",
    "    try:\n",
    "        print(\"Indices of sorted list3 using Python without NumPy:\", sort_indices_python(list3))\n",
    "    except ValueError as e:\n",
    "        print(\"Error Message:\", e)\n",
    "    end_time_python = time.time() - start_time\n",
    "\n",
    "    start_time = time.time()\n",
    "    try:\n",
    "        print(\"Indices of sorted list3 using NumPy:\", sort_indices_numpy(list3))\n",
    "    except ValueError as e:\n",
    "        print(\"Error Message:\", e)\n",
    "    end_time_numpy = time.time() - start_time\n",
    "    '''\n",
    "    \n",
    "    start_time = time.time()\n",
    "    sort_indices_python(list3)\n",
    "    end_time_python = time.time() - start_time\n",
    "\n",
    "    start_time = time.time()\n",
    "    sort_indices_numpy(list3)\n",
    "    end_time_numpy = time.time() - start_time\n",
    "    \n",
    "    print(f\"Python (without NumPy) sorting took {end_time_python:.4f} seconds.\")\n",
    "    print(f\"NumPy sorting took {end_time_numpy:.4f} seconds.\")\n",
    "\n",
    "# Run the tests\n",
    "test()\n",
    "\n",
    "# Conclusion: NumPy sorting is faster. The time difference becomes more noticeable with larger amounts of data."
   ]
  },
  {
   "cell_type": "code",
   "execution_count": 0,
   "metadata": {
    "collapsed": false
   },
   "outputs": [
   ],
   "source": [
   ]
  }
 ],
 "metadata": {
  "kernelspec": {
   "argv": [
    "/usr/bin/python3",
    "-m",
    "ipykernel",
    "--HistoryManager.enabled=False",
    "--matplotlib=inline",
    "-c",
    "%config InlineBackend.figure_formats = set(['retina'])\nimport matplotlib; matplotlib.rcParams['figure.figsize'] = (12, 7)",
    "-f",
    "{connection_file}"
   ],
   "display_name": "Python 3 (system-wide)",
   "env": {
   },
   "language": "python",
   "metadata": {
    "cocalc": {
     "description": "Python 3 programming language",
     "priority": 100,
     "url": "https://www.python.org/"
    }
   },
   "name": "python3",
   "resource_dir": "/ext/jupyter/kernels/python3"
  },
  "language_info": {
   "codemirror_mode": {
    "name": "ipython",
    "version": 3
   },
   "file_extension": ".py",
   "mimetype": "text/x-python",
   "name": "python",
   "nbconvert_exporter": "python",
   "pygments_lexer": "ipython3",
   "version": "3.10.12"
  }
 },
 "nbformat": 4,
 "nbformat_minor": 4
}